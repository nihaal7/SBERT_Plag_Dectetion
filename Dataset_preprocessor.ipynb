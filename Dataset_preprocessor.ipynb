{
 "cells": [
  {
   "cell_type": "code",
   "execution_count": null,
   "metadata": {
    "id": "GHWMvdjNWEA9"
   },
   "outputs": [],
   "source": [
    "pip install -U sentence-transformers"
   ]
  },
  {
   "cell_type": "code",
   "execution_count": 1,
   "metadata": {
    "id": "i2KnvNy-XJWK"
   },
   "outputs": [],
   "source": [
    "import torch"
   ]
  },
  {
   "cell_type": "code",
   "execution_count": null,
   "metadata": {
    "colab": {
     "base_uri": "https://localhost:8080/"
    },
    "id": "NStwiZwkW9HZ",
    "outputId": "f8d7559f-8f39-4f5b-b33a-20ab79804c48"
   },
   "outputs": [],
   "source": [
    "device = torch.device('cuda' if torch.cuda.is_available() else 'cpu')\n",
    "device"
   ]
  },
  {
   "cell_type": "code",
   "execution_count": null,
   "metadata": {
    "id": "QdIFMjY6WGYL"
   },
   "outputs": [],
   "source": [
    "from sentence_transformers import SentenceTransformer\n",
    "sentence_model = SentenceTransformer('all-MiniLM-L6-v2')\n",
    "sentence_model = sentence_model.to(device)\n",
    "import glob\n",
    "import os\n",
    "import nltk.data\n",
    "import nltk\n",
    "nltk.download('punkt')\n",
    "import numpy as np\n",
    "\n",
    "import pickle\n",
    "\n",
    "tokenizer = nltk.data.load('tokenizers/punkt/english.pickle')\n",
    "\n",
    "from tqdm.autonotebook import tqdm"
   ]
  },
  {
   "cell_type": "code",
   "execution_count": null,
   "metadata": {
    "colab": {
     "base_uri": "https://localhost:8080/",
     "height": 49,
     "referenced_widgets": [
      "cc804ae110654e4eae79bf767661677d",
      "11b7217f37224f92a49e869d945c4aea",
      "58c5b98b938543dd80e0751685d2d495",
      "0b5cc3b6523a401094b02dd93d175133",
      "fe5decfe1f0344929e5335f1b5cd94f0",
      "2daf1df2fc844edf8e2f5a3e372d806f",
      "ad4f8446e6a84a28a7ef74e216cb4257",
      "2e68b422973847008d3dc5710ccf2f61",
      "23f918aa86ee4dfeb68f3f21ba97e193",
      "140af9256ad4480f97ab8b0ac2036876",
      "6f594399f8034baea3ca24e6f9890984"
     ]
    },
    "id": "4GI_yEjdWWnR",
    "outputId": "5e587e7c-3079-402b-f4bc-012100a427a6"
   },
   "outputs": [],
   "source": [
    "train_labels = []\n",
    "train_inputs = []\n",
    "\n",
    "#original train files\n",
    "org_files = glob.glob(r'D:/Stat Lang Mod/Project/Full_data/corpus/train/og/*.txt')\n",
    "for file_path in tqdm(org_files):\n",
    "  with open(file_path, encoding=\"latin-1\") as f:\n",
    "      embedding = []\n",
    "      lines = f.read()\n",
    "      lines = tokenizer.tokenize(lines)\n",
    "      for i in range(10):\n",
    "        if i<len(lines):\n",
    "          temp_embedding = sentence_model.encode(lines[i])\n",
    "        else:\n",
    "          temp_embedding = np.zeros(384)\n",
    "        embedding = np.append(embedding,temp_embedding)\n",
    "      train_inputs.append(embedding)\n",
    "      train_labels.append(0)\n",
    "\n",
    "#plag train files\n",
    "plag_files = glob.glob(r'D:/Stat Lang Mod/Project/Full_data/corpus/train/mg/*.txt')\n",
    "for file_path in tqdm(plag_files):\n",
    "  with open(file_path, encoding=\"latin-1\") as f:\n",
    "      embedding = []\n",
    "      lines = f.read()\n",
    "      lines = tokenizer.tokenize(lines)\n",
    "      for i in range(10):\n",
    "        if i<len(lines):\n",
    "          temp_embedding = sentence_model.encode(lines[i])\n",
    "        else:\n",
    "          temp_embedding = np.zeros(384)\n",
    "        embedding = np.append(embedding,temp_embedding)\n",
    "      train_inputs.append(embedding)\n",
    "      train_labels.append(1)"
   ]
  },
  {
   "cell_type": "code",
   "execution_count": null,
   "metadata": {
    "id": "_iecEROjspuY"
   },
   "outputs": [],
   "source": [
    "#   write pickled data to file\n",
    "with open('10d_train_inputs.pkl', 'wb') as f:\n",
    "    pickle.dump(train_inputs, f)\n",
    "    \n",
    "with open('10d_train_labels.pkl', 'wb') as f:\n",
    "    pickle.dump(train_labels, f)"
   ]
  },
  {
   "cell_type": "code",
   "execution_count": null,
   "metadata": {
    "id": "svy9SwmvMciS"
   },
   "outputs": [],
   "source": [
    "test_labels = []\n",
    "test_inputs = []\n",
    "\n",
    "#original test files\n",
    "org_test_files = glob.glob(r'D:/Stat Lang Mod/Project/Full_data/corpus/test/og/*.txt')\n",
    "for file_path in tqdm(org_test_files):\n",
    "  with open(file_path, encoding=\"latin-1\") as f:\n",
    "      embedding = []\n",
    "      lines = f.read()\n",
    "      lines = tokenizer.tokenize(lines)\n",
    "      for i in range(10):\n",
    "        if i<len(lines):\n",
    "          temp_embedding = sentence_model.encode(lines[i])\n",
    "        else:\n",
    "          temp_embedding = np.zeros(384)\n",
    "        embedding = np.append(embedding,temp_embedding)\n",
    "      test_inputs.append(embedding)\n",
    "      test_labels.append(0)\n",
    "\n",
    "#plag test files\n",
    "plag_test_files = glob.glob(r'D:/Stat Lang Mod/Project/Full_data/corpus/test/mg/*.txt')\n",
    "for file_path in tqdm(plag_test_files):\n",
    "  with open(file_path, encoding=\"latin-1\") as f:\n",
    "      embedding = []\n",
    "      lines = f.read()\n",
    "      lines = tokenizer.tokenize(lines)\n",
    "      for i in range(10):\n",
    "        if i<len(lines):\n",
    "          temp_embedding = sentence_model.encode(lines[i])\n",
    "        else:\n",
    "          temp_embedding = np.zeros(384)\n",
    "        embedding = np.append(embedding,temp_embedding)\n",
    "      test_inputs.append(embedding)\n",
    "      test_labels.append(1)"
   ]
  },
  {
   "cell_type": "code",
   "execution_count": 6,
   "metadata": {
    "id": "Sw4-1ibVOGAk"
   },
   "outputs": [],
   "source": [
    "#   write pickled data to file\n",
    "with open('10d_test_inputs.pkl', 'wb') as f:\n",
    "    pickle.dump(test_inputs, f)\n",
    "    \n",
    "with open('10d_test_labels.pkl', 'wb') as f:\n",
    "    pickle.dump(test_labels, f)"
   ]
  }
 ],
 "metadata": {
  "accelerator": "GPU",
  "colab": {
   "gpuType": "T4",
   "provenance": []
  },
  "gpuClass": "standard",
  "kernelspec": {
   "display_name": "Python 3 (ipykernel)",
   "language": "python",
   "name": "python3"
  },
  "language_info": {
   "codemirror_mode": {
    "name": "ipython",
    "version": 3
   },
   "file_extension": ".py",
   "mimetype": "text/x-python",
   "name": "python",
   "nbconvert_exporter": "python",
   "pygments_lexer": "ipython3",
   "version": "3.9.5"
  },
  "widgets": {
   "application/vnd.jupyter.widget-state+json": {
    "0b5cc3b6523a401094b02dd93d175133": {
     "model_module": "@jupyter-widgets/controls",
     "model_module_version": "1.5.0",
     "model_name": "HTMLModel",
     "state": {
      "_dom_classes": [],
      "_model_module": "@jupyter-widgets/controls",
      "_model_module_version": "1.5.0",
      "_model_name": "HTMLModel",
      "_view_count": null,
      "_view_module": "@jupyter-widgets/controls",
      "_view_module_version": "1.5.0",
      "_view_name": "HTMLView",
      "description": "",
      "description_tooltip": null,
      "layout": "IPY_MODEL_140af9256ad4480f97ab8b0ac2036876",
      "placeholder": "​",
      "style": "IPY_MODEL_6f594399f8034baea3ca24e6f9890984",
      "value": " 8799/98282 [08:02&lt;1:26:27, 17.25it/s]"
     }
    },
    "11b7217f37224f92a49e869d945c4aea": {
     "model_module": "@jupyter-widgets/controls",
     "model_module_version": "1.5.0",
     "model_name": "HTMLModel",
     "state": {
      "_dom_classes": [],
      "_model_module": "@jupyter-widgets/controls",
      "_model_module_version": "1.5.0",
      "_model_name": "HTMLModel",
      "_view_count": null,
      "_view_module": "@jupyter-widgets/controls",
      "_view_module_version": "1.5.0",
      "_view_name": "HTMLView",
      "description": "",
      "description_tooltip": null,
      "layout": "IPY_MODEL_2daf1df2fc844edf8e2f5a3e372d806f",
      "placeholder": "​",
      "style": "IPY_MODEL_ad4f8446e6a84a28a7ef74e216cb4257",
      "value": "  9%"
     }
    },
    "140af9256ad4480f97ab8b0ac2036876": {
     "model_module": "@jupyter-widgets/base",
     "model_module_version": "1.2.0",
     "model_name": "LayoutModel",
     "state": {
      "_model_module": "@jupyter-widgets/base",
      "_model_module_version": "1.2.0",
      "_model_name": "LayoutModel",
      "_view_count": null,
      "_view_module": "@jupyter-widgets/base",
      "_view_module_version": "1.2.0",
      "_view_name": "LayoutView",
      "align_content": null,
      "align_items": null,
      "align_self": null,
      "border": null,
      "bottom": null,
      "display": null,
      "flex": null,
      "flex_flow": null,
      "grid_area": null,
      "grid_auto_columns": null,
      "grid_auto_flow": null,
      "grid_auto_rows": null,
      "grid_column": null,
      "grid_gap": null,
      "grid_row": null,
      "grid_template_areas": null,
      "grid_template_columns": null,
      "grid_template_rows": null,
      "height": null,
      "justify_content": null,
      "justify_items": null,
      "left": null,
      "margin": null,
      "max_height": null,
      "max_width": null,
      "min_height": null,
      "min_width": null,
      "object_fit": null,
      "object_position": null,
      "order": null,
      "overflow": null,
      "overflow_x": null,
      "overflow_y": null,
      "padding": null,
      "right": null,
      "top": null,
      "visibility": null,
      "width": null
     }
    },
    "23f918aa86ee4dfeb68f3f21ba97e193": {
     "model_module": "@jupyter-widgets/controls",
     "model_module_version": "1.5.0",
     "model_name": "ProgressStyleModel",
     "state": {
      "_model_module": "@jupyter-widgets/controls",
      "_model_module_version": "1.5.0",
      "_model_name": "ProgressStyleModel",
      "_view_count": null,
      "_view_module": "@jupyter-widgets/base",
      "_view_module_version": "1.2.0",
      "_view_name": "StyleView",
      "bar_color": null,
      "description_width": ""
     }
    },
    "2daf1df2fc844edf8e2f5a3e372d806f": {
     "model_module": "@jupyter-widgets/base",
     "model_module_version": "1.2.0",
     "model_name": "LayoutModel",
     "state": {
      "_model_module": "@jupyter-widgets/base",
      "_model_module_version": "1.2.0",
      "_model_name": "LayoutModel",
      "_view_count": null,
      "_view_module": "@jupyter-widgets/base",
      "_view_module_version": "1.2.0",
      "_view_name": "LayoutView",
      "align_content": null,
      "align_items": null,
      "align_self": null,
      "border": null,
      "bottom": null,
      "display": null,
      "flex": null,
      "flex_flow": null,
      "grid_area": null,
      "grid_auto_columns": null,
      "grid_auto_flow": null,
      "grid_auto_rows": null,
      "grid_column": null,
      "grid_gap": null,
      "grid_row": null,
      "grid_template_areas": null,
      "grid_template_columns": null,
      "grid_template_rows": null,
      "height": null,
      "justify_content": null,
      "justify_items": null,
      "left": null,
      "margin": null,
      "max_height": null,
      "max_width": null,
      "min_height": null,
      "min_width": null,
      "object_fit": null,
      "object_position": null,
      "order": null,
      "overflow": null,
      "overflow_x": null,
      "overflow_y": null,
      "padding": null,
      "right": null,
      "top": null,
      "visibility": null,
      "width": null
     }
    },
    "2e68b422973847008d3dc5710ccf2f61": {
     "model_module": "@jupyter-widgets/base",
     "model_module_version": "1.2.0",
     "model_name": "LayoutModel",
     "state": {
      "_model_module": "@jupyter-widgets/base",
      "_model_module_version": "1.2.0",
      "_model_name": "LayoutModel",
      "_view_count": null,
      "_view_module": "@jupyter-widgets/base",
      "_view_module_version": "1.2.0",
      "_view_name": "LayoutView",
      "align_content": null,
      "align_items": null,
      "align_self": null,
      "border": null,
      "bottom": null,
      "display": null,
      "flex": null,
      "flex_flow": null,
      "grid_area": null,
      "grid_auto_columns": null,
      "grid_auto_flow": null,
      "grid_auto_rows": null,
      "grid_column": null,
      "grid_gap": null,
      "grid_row": null,
      "grid_template_areas": null,
      "grid_template_columns": null,
      "grid_template_rows": null,
      "height": null,
      "justify_content": null,
      "justify_items": null,
      "left": null,
      "margin": null,
      "max_height": null,
      "max_width": null,
      "min_height": null,
      "min_width": null,
      "object_fit": null,
      "object_position": null,
      "order": null,
      "overflow": null,
      "overflow_x": null,
      "overflow_y": null,
      "padding": null,
      "right": null,
      "top": null,
      "visibility": null,
      "width": null
     }
    },
    "58c5b98b938543dd80e0751685d2d495": {
     "model_module": "@jupyter-widgets/controls",
     "model_module_version": "1.5.0",
     "model_name": "FloatProgressModel",
     "state": {
      "_dom_classes": [],
      "_model_module": "@jupyter-widgets/controls",
      "_model_module_version": "1.5.0",
      "_model_name": "FloatProgressModel",
      "_view_count": null,
      "_view_module": "@jupyter-widgets/controls",
      "_view_module_version": "1.5.0",
      "_view_name": "ProgressView",
      "bar_style": "",
      "description": "",
      "description_tooltip": null,
      "layout": "IPY_MODEL_2e68b422973847008d3dc5710ccf2f61",
      "max": 98282,
      "min": 0,
      "orientation": "horizontal",
      "style": "IPY_MODEL_23f918aa86ee4dfeb68f3f21ba97e193",
      "value": 8801
     }
    },
    "6f594399f8034baea3ca24e6f9890984": {
     "model_module": "@jupyter-widgets/controls",
     "model_module_version": "1.5.0",
     "model_name": "DescriptionStyleModel",
     "state": {
      "_model_module": "@jupyter-widgets/controls",
      "_model_module_version": "1.5.0",
      "_model_name": "DescriptionStyleModel",
      "_view_count": null,
      "_view_module": "@jupyter-widgets/base",
      "_view_module_version": "1.2.0",
      "_view_name": "StyleView",
      "description_width": ""
     }
    },
    "ad4f8446e6a84a28a7ef74e216cb4257": {
     "model_module": "@jupyter-widgets/controls",
     "model_module_version": "1.5.0",
     "model_name": "DescriptionStyleModel",
     "state": {
      "_model_module": "@jupyter-widgets/controls",
      "_model_module_version": "1.5.0",
      "_model_name": "DescriptionStyleModel",
      "_view_count": null,
      "_view_module": "@jupyter-widgets/base",
      "_view_module_version": "1.2.0",
      "_view_name": "StyleView",
      "description_width": ""
     }
    },
    "cc804ae110654e4eae79bf767661677d": {
     "model_module": "@jupyter-widgets/controls",
     "model_module_version": "1.5.0",
     "model_name": "HBoxModel",
     "state": {
      "_dom_classes": [],
      "_model_module": "@jupyter-widgets/controls",
      "_model_module_version": "1.5.0",
      "_model_name": "HBoxModel",
      "_view_count": null,
      "_view_module": "@jupyter-widgets/controls",
      "_view_module_version": "1.5.0",
      "_view_name": "HBoxView",
      "box_style": "",
      "children": [
       "IPY_MODEL_11b7217f37224f92a49e869d945c4aea",
       "IPY_MODEL_58c5b98b938543dd80e0751685d2d495",
       "IPY_MODEL_0b5cc3b6523a401094b02dd93d175133"
      ],
      "layout": "IPY_MODEL_fe5decfe1f0344929e5335f1b5cd94f0"
     }
    },
    "fe5decfe1f0344929e5335f1b5cd94f0": {
     "model_module": "@jupyter-widgets/base",
     "model_module_version": "1.2.0",
     "model_name": "LayoutModel",
     "state": {
      "_model_module": "@jupyter-widgets/base",
      "_model_module_version": "1.2.0",
      "_model_name": "LayoutModel",
      "_view_count": null,
      "_view_module": "@jupyter-widgets/base",
      "_view_module_version": "1.2.0",
      "_view_name": "LayoutView",
      "align_content": null,
      "align_items": null,
      "align_self": null,
      "border": null,
      "bottom": null,
      "display": null,
      "flex": null,
      "flex_flow": null,
      "grid_area": null,
      "grid_auto_columns": null,
      "grid_auto_flow": null,
      "grid_auto_rows": null,
      "grid_column": null,
      "grid_gap": null,
      "grid_row": null,
      "grid_template_areas": null,
      "grid_template_columns": null,
      "grid_template_rows": null,
      "height": null,
      "justify_content": null,
      "justify_items": null,
      "left": null,
      "margin": null,
      "max_height": null,
      "max_width": null,
      "min_height": null,
      "min_width": null,
      "object_fit": null,
      "object_position": null,
      "order": null,
      "overflow": null,
      "overflow_x": null,
      "overflow_y": null,
      "padding": null,
      "right": null,
      "top": null,
      "visibility": null,
      "width": null
     }
    }
   }
  }
 },
 "nbformat": 4,
 "nbformat_minor": 1
}
